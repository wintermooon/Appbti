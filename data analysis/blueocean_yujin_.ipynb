{
  "nbformat": 4,
  "nbformat_minor": 0,
  "metadata": {
    "colab": {
      "name": "google0423.ipynb",
      "provenance": [],
      "collapsed_sections": []
    },
    "kernelspec": {
      "name": "python3",
      "display_name": "Python 3"
    },
    "language_info": {
      "name": "python"
    }
  },
  "cells": [
    {
      "cell_type": "markdown",
      "source": [
        "# <정리>\n",
        "\n",
        "##1. cate_market1: 카테고리별 앱의 다운로드 수 / 카테고리별 앱 개수\n",
        "##2. cate_market2: 카테고리별 앱의 광고 수/ 카테고리별 앱 개수\n",
        "##3. cate_market3: 카테고리별 앱의 에디터 추천 수/카테고리별 앱 개수\n",
        "\n",
        "# <결과>\n",
        "\n",
        "### 1,2,3을 통합한 결과: Game, Comics, Video Players & Editors, Weather가 블루오션+수익성이 있을 가능성이 있는 앱들로 보임 --> Editor's Picks에 넣기\n",
        "\n",
        "### Appbti test에서는 cate_market1의 순위를 활용해서 개발자가 선호하는 카테고리 시장을 파악해서 알려주면 될 것 같음( 얼마만큼 블루오션입니다 or 얼마만큼 레드오션입니다.)\n"
      ],
      "metadata": {
        "id": "v30ZV9eHbhx4"
      }
    },
    {
      "cell_type": "code",
      "execution_count": 1,
      "metadata": {
        "id": "AquSgbDceNMZ"
      },
      "outputs": [],
      "source": [
        "import numpy as np\n",
        "import pandas as pd\n",
        "import seaborn as sns\n",
        "import matplotlib.pyplot as plt\n",
        "%matplotlib inline\n",
        "\n",
        "data = pd.read_csv('/content/google-app-pre.csv')"
      ]
    },
    {
      "cell_type": "code",
      "source": [
        "cate_down = data.groupby(['Category'])['Maximum Installs'].sum().sort_values(ascending=False)\n",
        "print(cate_down)\n",
        "cate_rate = data.groupby(['Category'])['Rating'].mean().sort_values(ascending=False)\n",
        "print(cate_rate)\n",
        "cate_counts = data['Category'].value_counts()\n",
        "print(cate_counts)\n"
      ],
      "metadata": {
        "colab": {
          "base_uri": "https://localhost:8080/"
        },
        "id": "8MmhAFAYffkC",
        "outputId": "da8de34d-58c7-4ce0-887c-275186332c67"
      },
      "execution_count": 2,
      "outputs": [
        {
          "output_type": "stream",
          "name": "stdout",
          "text": [
            "Category\n",
            "Game                       1.064906e+10\n",
            "Photography                3.167195e+09\n",
            "Entertainment              2.584189e+09\n",
            "Tools                      2.575305e+09\n",
            "Productivity               2.005574e+09\n",
            "Social                     1.920418e+09\n",
            "Health & Fitness           1.622161e+09\n",
            "Video Players & Editors    9.157181e+08\n",
            "Lifestyle                  9.032375e+08\n",
            "Shopping                   6.525048e+08\n",
            "Education                  6.335836e+08\n",
            "Music & Audio              5.264906e+08\n",
            "Personalization            4.648647e+08\n",
            "Finance                    3.493151e+08\n",
            "Communication              2.769461e+08\n",
            "Weather                    2.500550e+08\n",
            "Books & Reference          1.972893e+08\n",
            "Travel & Local             1.856857e+08\n",
            "News & Magazines           1.544287e+08\n",
            "Business                   1.482329e+08\n",
            "Maps & Navigation          1.298106e+08\n",
            "Art & Design               8.416513e+07\n",
            "Food & Drink               7.316383e+07\n",
            "Medical                    4.716920e+07\n",
            "Beauty                     4.285586e+07\n",
            "Auto & Vehicles            3.188112e+07\n",
            "Dating                     2.481863e+07\n",
            "Comics                     1.500386e+07\n",
            "House & Home               1.302936e+07\n",
            "Parenting                  1.151159e+07\n",
            "Events                     5.114824e+06\n",
            "Libraries & Demo           4.162950e+06\n",
            "Name: Maximum Installs, dtype: float64\n",
            "Category\n",
            "Personalization            4.224349\n",
            "Books & Reference          4.208012\n",
            "Weather                    4.173171\n",
            "Music & Audio              4.157593\n",
            "Education                  4.062146\n",
            "Lifestyle                  3.956235\n",
            "Art & Design               3.954839\n",
            "Communication              3.940879\n",
            "News & Magazines           3.940399\n",
            "Game                       3.938838\n",
            "Social                     3.937850\n",
            "Comics                     3.934146\n",
            "Beauty                     3.916049\n",
            "Parenting                  3.902500\n",
            "Libraries & Demo           3.897368\n",
            "Dating                     3.894898\n",
            "Travel & Local             3.882109\n",
            "Photography                3.881894\n",
            "Medical                    3.870588\n",
            "Entertainment              3.869458\n",
            "Productivity               3.836807\n",
            "Shopping                   3.820650\n",
            "Food & Drink               3.815745\n",
            "Health & Fitness           3.809312\n",
            "Video Players & Editors    3.796667\n",
            "Tools                      3.793784\n",
            "Finance                    3.787349\n",
            "Auto & Vehicles            3.770455\n",
            "Maps & Navigation          3.740636\n",
            "Business                   3.701541\n",
            "House & Home               3.505195\n",
            "Events                     3.471429\n",
            "Name: Rating, dtype: float64\n",
            "Game                       4354\n",
            "Education                  1696\n",
            "Tools                      1673\n",
            "Entertainment              1660\n",
            "Personalization            1306\n",
            "Music & Audio              1205\n",
            "Books & Reference           986\n",
            "Lifestyle                   850\n",
            "Finance                     830\n",
            "Business                    649\n",
            "Photography                 602\n",
            "Productivity                595\n",
            "Travel & Local              531\n",
            "Health & Fitness            494\n",
            "Communication               455\n",
            "Shopping                    431\n",
            "Social                      428\n",
            "News & Magazines            401\n",
            "Video Players & Editors     300\n",
            "Maps & Navigation           283\n",
            "Food & Drink                235\n",
            "Medical                     204\n",
            "Art & Design                186\n",
            "Auto & Vehicles             132\n",
            "Weather                     123\n",
            "Dating                       98\n",
            "Beauty                       81\n",
            "House & Home                 77\n",
            "Comics                       41\n",
            "Parenting                    40\n",
            "Libraries & Demo             38\n",
            "Events                       21\n",
            "Name: Category, dtype: int64\n"
          ]
        }
      ]
    },
    {
      "cell_type": "code",
      "source": [
        "\n",
        "# 공급에 비해 수요가 많은 카테고리 순위파악하기\n",
        "# cate_market: 카테고리별 앱 다운로드 수/카테고리별 앱 개수\n",
        "cate_market = cate_down/cate_counts\n",
        "print(cate_market.sort_values(ascending=False))"
      ],
      "metadata": {
        "colab": {
          "base_uri": "https://localhost:8080/"
        },
        "id": "oryOUxALaaTi",
        "outputId": "435ff600-6f08-435f-f26c-8dff06100976"
      },
      "execution_count": 3,
      "outputs": [
        {
          "output_type": "stream",
          "name": "stdout",
          "text": [
            "Photography                5.261121e+06\n",
            "Social                     4.486958e+06\n",
            "Productivity               3.370712e+06\n",
            "Health & Fitness           3.283728e+06\n",
            "Video Players & Editors    3.052394e+06\n",
            "Game                       2.445811e+06\n",
            "Weather                    2.032967e+06\n",
            "Entertainment              1.556740e+06\n",
            "Tools                      1.539334e+06\n",
            "Shopping                   1.513932e+06\n",
            "Lifestyle                  1.062632e+06\n",
            "Communication              6.086728e+05\n",
            "Beauty                     5.290846e+05\n",
            "Maps & Navigation          4.586946e+05\n",
            "Art & Design               4.525007e+05\n",
            "Music & Audio              4.369216e+05\n",
            "Finance                    4.208615e+05\n",
            "News & Magazines           3.851089e+05\n",
            "Education                  3.735752e+05\n",
            "Comics                     3.659477e+05\n",
            "Personalization            3.559454e+05\n",
            "Travel & Local             3.496905e+05\n",
            "Food & Drink               3.113354e+05\n",
            "Parenting                  2.877897e+05\n",
            "Dating                     2.532513e+05\n",
            "Events                     2.435630e+05\n",
            "Auto & Vehicles            2.415236e+05\n",
            "Medical                    2.312215e+05\n",
            "Business                   2.284021e+05\n",
            "Books & Reference          2.000906e+05\n",
            "House & Home               1.692125e+05\n",
            "Libraries & Demo           1.095513e+05\n",
            "dtype: float64\n"
          ]
        }
      ]
    },
    {
      "cell_type": "code",
      "source": [
        "\n",
        "cate_ad = data[data['Ad Supported'] == True].groupby('Category')['App Name'].count().sort_values(ascending=False)\n",
        "cate_ad\n",
        "\n",
        "# cate_market2: 카테고리 별 앱 광고수 / 카테고리 별 앱 개수\n",
        "cate_market2 = cate_ad/cate_counts  \n",
        "print(cate_market2.sort_values(ascending=False))  "
      ],
      "metadata": {
        "colab": {
          "base_uri": "https://localhost:8080/"
        },
        "id": "0uUyQS8NXJTO",
        "outputId": "95011917-71dd-4183-e21c-75cb2ec13d4d"
      },
      "execution_count": 4,
      "outputs": [
        {
          "output_type": "stream",
          "name": "stdout",
          "text": [
            "Personalization            0.922665\n",
            "Photography                0.892027\n",
            "Beauty                     0.888889\n",
            "Music & Audio              0.872199\n",
            "Game                       0.866789\n",
            "Art & Design               0.860215\n",
            "Books & Reference          0.853955\n",
            "Weather                    0.853659\n",
            "Comics                     0.829268\n",
            "Entertainment              0.816265\n",
            "Video Players & Editors    0.800000\n",
            "News & Magazines           0.765586\n",
            "Dating                     0.714286\n",
            "Tools                      0.656904\n",
            "Education                  0.634434\n",
            "Libraries & Demo           0.605263\n",
            "Parenting                  0.600000\n",
            "Lifestyle                  0.550588\n",
            "Social                     0.544393\n",
            "Communication              0.512088\n",
            "Productivity               0.457143\n",
            "Auto & Vehicles            0.439394\n",
            "Events                     0.428571\n",
            "Health & Fitness           0.396761\n",
            "Food & Drink               0.365957\n",
            "House & Home               0.337662\n",
            "Travel & Local             0.320151\n",
            "Medical                    0.313725\n",
            "Maps & Navigation          0.275618\n",
            "Finance                    0.220482\n",
            "Shopping                   0.215777\n",
            "Business                   0.161787\n",
            "dtype: float64\n"
          ]
        }
      ]
    },
    {
      "cell_type": "code",
      "source": [
        "cate_editor = data[data['Editors Choice'] == True].groupby('Category')['App Name'].count().sort_values(ascending=False)\n",
        "cate_editor\n",
        "\n",
        "#cate_market3: 카테고리 별 앱의 에디터 추천 수/ 카테고리 별 앱 개수\n",
        "cate_market3 = cate_editor/cate_counts   \n",
        "print(cate_market3.sort_values(ascending=False))"
      ],
      "metadata": {
        "colab": {
          "base_uri": "https://localhost:8080/"
        },
        "id": "MqQo2yd4f6WJ",
        "outputId": "8438be9f-b955-4ec0-e145-112305b67cd2"
      },
      "execution_count": 5,
      "outputs": [
        {
          "output_type": "stream",
          "name": "stdout",
          "text": [
            "Game                       0.004364\n",
            "Video Players & Editors    0.003333\n",
            "Shopping                   0.002320\n",
            "Business                   0.001541\n",
            "Entertainment              0.001205\n",
            "Lifestyle                  0.001176\n",
            "Education                  0.000590\n",
            "Art & Design                    NaN\n",
            "Auto & Vehicles                 NaN\n",
            "Beauty                          NaN\n",
            "Books & Reference               NaN\n",
            "Comics                          NaN\n",
            "Communication                   NaN\n",
            "Dating                          NaN\n",
            "Events                          NaN\n",
            "Finance                         NaN\n",
            "Food & Drink                    NaN\n",
            "Health & Fitness                NaN\n",
            "House & Home                    NaN\n",
            "Libraries & Demo                NaN\n",
            "Maps & Navigation               NaN\n",
            "Medical                         NaN\n",
            "Music & Audio                   NaN\n",
            "News & Magazines                NaN\n",
            "Parenting                       NaN\n",
            "Personalization                 NaN\n",
            "Photography                     NaN\n",
            "Productivity                    NaN\n",
            "Social                          NaN\n",
            "Tools                           NaN\n",
            "Travel & Local                  NaN\n",
            "Weather                         NaN\n",
            "dtype: float64\n"
          ]
        }
      ]
    }
  ]
}